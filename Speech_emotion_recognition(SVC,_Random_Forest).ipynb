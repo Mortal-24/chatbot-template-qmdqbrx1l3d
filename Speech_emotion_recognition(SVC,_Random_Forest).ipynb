{
  "metadata": {
    "kernelspec": {
      "language": "python",
      "display_name": "Python 3",
      "name": "python3"
    },
    "language_info": {
      "name": "python",
      "version": "3.10.13",
      "mimetype": "text/x-python",
      "codemirror_mode": {
        "name": "ipython",
        "version": 3
      },
      "pygments_lexer": "ipython3",
      "nbconvert_exporter": "python",
      "file_extension": ".py"
    },
    "kaggle": {
      "accelerator": "none",
      "dataSources": [
        {
          "sourceId": 639622,
          "sourceType": "datasetVersion",
          "datasetId": 316368
        }
      ],
      "dockerImageVersionId": 30674,
      "isInternetEnabled": true,
      "language": "python",
      "sourceType": "notebook",
      "isGpuEnabled": false
    },
    "colab": {
      "name": "Speech emotion recognition(SVC, Random Forest)",
      "provenance": [],
      "toc_visible": true,
      "include_colab_link": true
    }
  },
  "nbformat_minor": 0,
  "nbformat": 4,
  "cells": [
    {
      "cell_type": "markdown",
      "metadata": {
        "id": "view-in-github",
        "colab_type": "text"
      },
      "source": [
        "<a href=\"https://colab.research.google.com/github/Mortal-24/chatbot-template-qmdqbrx1l3d/blob/main/Speech_emotion_recognition(SVC%2C_Random_Forest).ipynb\" target=\"_parent\"><img src=\"https://colab.research.google.com/assets/colab-badge.svg\" alt=\"Open In Colab\"/></a>"
      ]
    },
    {
      "source": [
        "\n",
        "# IMPORTANT: RUN THIS CELL IN ORDER TO IMPORT YOUR KAGGLE DATA SOURCES\n",
        "# TO THE CORRECT LOCATION (/kaggle/input) IN YOUR NOTEBOOK,\n",
        "# THEN FEEL FREE TO DELETE THIS CELL.\n",
        "# NOTE: THIS NOTEBOOK ENVIRONMENT DIFFERS FROM KAGGLE'S PYTHON\n",
        "# ENVIRONMENT SO THERE MAY BE MISSING LIBRARIES USED BY YOUR\n",
        "# NOTEBOOK.\n",
        "\n",
        "import os\n",
        "import sys\n",
        "from tempfile import NamedTemporaryFile\n",
        "from urllib.request import urlopen\n",
        "from urllib.parse import unquote, urlparse\n",
        "from urllib.error import HTTPError\n",
        "from zipfile import ZipFile\n",
        "import tarfile\n",
        "import shutil\n",
        "\n",
        "CHUNK_SIZE = 40960\n",
        "DATA_SOURCE_MAPPING = 'toronto-emotional-speech-set-tess:https%3A%2F%2Fstorage.googleapis.com%2Fkaggle-data-sets%2F316368%2F639622%2Fbundle%2Farchive.zip%3FX-Goog-Algorithm%3DGOOG4-RSA-SHA256%26X-Goog-Credential%3Dgcp-kaggle-com%2540kaggle-161607.iam.gserviceaccount.com%252F20240708%252Fauto%252Fstorage%252Fgoog4_request%26X-Goog-Date%3D20240708T122458Z%26X-Goog-Expires%3D259200%26X-Goog-SignedHeaders%3Dhost%26X-Goog-Signature%3D4780687998e70b2e41ff93582f895dc7bfc00a4e50651f4372e2cbdfb8049159fdb7782d1419ee24c4919c5f43ac2f08c986397b58d9800229af73d298eb2b4e5b915e1a7b51a9773cbdc241eedcf79eadea61ec54ea4aee9de6d0646a53a0cd901aae1e6f835dc9db2a85e0b7d261f60dfddafe259aab135c72dbe8785d8ca9c69d912f03f08d86b3e0fbb4052fa840e3a27a3bffc1d597197abed0468985a2208eb35f39f37f36801cb2a5ce23265d899096a72ad1c3eeff06ed1d64f2ab28397b9dd4cf6f2801b89c294ca53fcefb64da951847fce6bbf21618c5fba1bfa07095496fee46d86414d0b1a8813808a929c801253f8b9d5a5019c3e6ac08617a'\n",
        "\n",
        "KAGGLE_INPUT_PATH='/kaggle/input'\n",
        "KAGGLE_WORKING_PATH='/kaggle/working'\n",
        "KAGGLE_SYMLINK='kaggle'\n",
        "\n",
        "!umount /kaggle/input/ 2> /dev/null\n",
        "shutil.rmtree('/kaggle/input', ignore_errors=True)\n",
        "os.makedirs(KAGGLE_INPUT_PATH, 0o777, exist_ok=True)\n",
        "os.makedirs(KAGGLE_WORKING_PATH, 0o777, exist_ok=True)\n",
        "\n",
        "try:\n",
        "  os.symlink(KAGGLE_INPUT_PATH, os.path.join(\"..\", 'input'), target_is_directory=True)\n",
        "except FileExistsError:\n",
        "  pass\n",
        "try:\n",
        "  os.symlink(KAGGLE_WORKING_PATH, os.path.join(\"..\", 'working'), target_is_directory=True)\n",
        "except FileExistsError:\n",
        "  pass\n",
        "\n",
        "for data_source_mapping in DATA_SOURCE_MAPPING.split(','):\n",
        "    directory, download_url_encoded = data_source_mapping.split(':')\n",
        "    download_url = unquote(download_url_encoded)\n",
        "    filename = urlparse(download_url).path\n",
        "    destination_path = os.path.join(KAGGLE_INPUT_PATH, directory)\n",
        "    try:\n",
        "        with urlopen(download_url) as fileres, NamedTemporaryFile() as tfile:\n",
        "            total_length = fileres.headers['content-length']\n",
        "            print(f'Downloading {directory}, {total_length} bytes compressed')\n",
        "            dl = 0\n",
        "            data = fileres.read(CHUNK_SIZE)\n",
        "            while len(data) > 0:\n",
        "                dl += len(data)\n",
        "                tfile.write(data)\n",
        "                done = int(50 * dl / int(total_length))\n",
        "                sys.stdout.write(f\"\\r[{'=' * done}{' ' * (50-done)}] {dl} bytes downloaded\")\n",
        "                sys.stdout.flush()\n",
        "                data = fileres.read(CHUNK_SIZE)\n",
        "            if filename.endswith('.zip'):\n",
        "              with ZipFile(tfile) as zfile:\n",
        "                zfile.extractall(destination_path)\n",
        "            else:\n",
        "              with tarfile.open(tfile.name) as tarfile:\n",
        "                tarfile.extractall(destination_path)\n",
        "            print(f'\\nDownloaded and uncompressed: {directory}')\n",
        "    except HTTPError as e:\n",
        "        print(f'Failed to load (likely expired) {download_url} to path {destination_path}')\n",
        "        continue\n",
        "    except OSError as e:\n",
        "        print(f'Failed to load {download_url} to path {destination_path}')\n",
        "        continue\n",
        "\n",
        "print('Data source import complete.')\n"
      ],
      "metadata": {
        "id": "x9uCm3yKkPZX"
      },
      "cell_type": "code",
      "outputs": [],
      "execution_count": null
    },
    {
      "cell_type": "code",
      "source": [
        "# This Python 3 environment comes with many helpful analytics libraries installed\n",
        "# It is defined by the kaggle/python Docker image: https://github.com/kaggle/docker-python\n",
        "# For example, here's several helpful packages to load\n",
        "\n",
        "import numpy as np # linear algebra\n",
        "import pandas as pd # data processing, CSV file I/O (e.g. pd.read_csv)\n",
        "\n",
        "# Input data files are available in the read-only \"../input/\" directory\n",
        "# For example, running this (by clicking run or pressing Shift+Enter) will list all files under the input directory\n",
        "\n",
        "import os\n",
        "for dirname, _, filenames in os.walk('/kaggle/input'):\n",
        "    for filename in filenames:\n",
        "        print(os.path.join(dirname, filename))\n",
        "\n",
        "# You can write up to 20GB to the current directory (/kaggle/working/) that gets preserved as output when you create a version using \"Save & Run All\"\n",
        "# You can also write temporary files to /kaggle/temp/, but they won't be saved outside of the current session"
      ],
      "metadata": {
        "_uuid": "8f2839f25d086af736a60e9eeb907d3b93b6e0e5",
        "_cell_guid": "b1076dfc-b9ad-4769-8c92-a6c4dae69d19",
        "trusted": true,
        "id": "YEWNZk8NkPZY"
      },
      "execution_count": null,
      "outputs": []
    },
    {
      "cell_type": "markdown",
      "source": [
        "# **Import Libraries**"
      ],
      "metadata": {
        "id": "fLNbxqYikPZY"
      }
    },
    {
      "cell_type": "code",
      "source": [
        "import pandas as pd\n",
        "import numpy as np\n",
        "import librosa\n",
        "import matplotlib.pyplot as plt\n",
        "import seaborn as sns\n",
        "import os\n",
        "import librosa.display\n",
        "import IPython.display as ipd\n",
        "from sklearn.model_selection import train_test_split\n",
        "from sklearn.preprocessing import LabelEncoder\n",
        "from tensorflow.keras.layers import Dense,Dropout\n",
        "from tensorflow.keras.models import Sequential\n",
        "from sklearn.svm import SVC\n",
        "from sklearn.ensemble import RandomForestClassifier"
      ],
      "metadata": {
        "execution": {
          "iopub.status.busy": "2024-03-26T05:54:21.574966Z",
          "iopub.execute_input": "2024-03-26T05:54:21.575395Z",
          "iopub.status.idle": "2024-03-26T05:54:21.58245Z",
          "shell.execute_reply.started": "2024-03-26T05:54:21.575361Z",
          "shell.execute_reply": "2024-03-26T05:54:21.581225Z"
        },
        "trusted": true,
        "id": "-1RoIcwmkPZZ"
      },
      "execution_count": null,
      "outputs": []
    },
    {
      "cell_type": "code",
      "source": [
        "# Define the folder containing the audio signals\n",
        "root_directory = '/kaggle/input/toronto-emotional-speech-set-tess/TESS Toronto emotional speech set data'\n",
        "\n",
        "# Define the function to preprocess and extract features from audio signals\n",
        "def preprocess_and_extract_features(file_path):\n",
        "    try:\n",
        "        # Load the audio file\n",
        "        audio_data, sample_rate = librosa.load(file_path, sr=None)\n",
        "\n",
        "        # Apply preprocessing steps\n",
        "        # Resample to a common sample rate (if necessary)\n",
        "        target_sample_rate = 45000  # Target sample rate\n",
        "        if sample_rate != target_sample_rate:\n",
        "            audio_data = librosa.resample(audio_data, orig_sr=sample_rate, target_sr=target_sample_rate)\n",
        "\n",
        "        # Normalize the amplitude of the audio signal\n",
        "        audio_data /= np.max(np.abs(audio_data))\n",
        "\n",
        "        # Feature extraction\n",
        "        #Compute Mel-Frequency Cepstral Coefficients (MFCCs)\n",
        "        mfccs = librosa.feature.mfcc(y=audio_data, sr=target_sample_rate, n_mfcc=40)\n",
        "\n",
        "        return mfccs\n",
        "\n",
        "    except Exception as e:\n",
        "        print(f\"Error processing file {file_path}: {str(e)}\")\n",
        "        return None"
      ],
      "metadata": {
        "execution": {
          "iopub.status.busy": "2024-03-26T05:48:13.121584Z",
          "iopub.execute_input": "2024-03-26T05:48:13.122013Z",
          "iopub.status.idle": "2024-03-26T05:48:13.130212Z",
          "shell.execute_reply.started": "2024-03-26T05:48:13.121983Z",
          "shell.execute_reply": "2024-03-26T05:48:13.128824Z"
        },
        "trusted": true,
        "id": "ftNnODYWkPZZ"
      },
      "execution_count": null,
      "outputs": []
    },
    {
      "cell_type": "markdown",
      "source": [
        "# **Iterate the audio files and apply feature extraction**"
      ],
      "metadata": {
        "id": "Lz2VNfclkPZa"
      }
    },
    {
      "cell_type": "code",
      "source": [
        "# Iterate through each audio file in the folder\n",
        "labels = []\n",
        "mfcc_features = []\n",
        "\n",
        "for folder in os.listdir(root_directory):\n",
        "    folder_path = os.path.join(root_directory,folder)\n",
        "    for file_name in os.listdir(folder_path):\n",
        "        if file_name.endswith('.wav'):\n",
        "            file_path = os.path.join(folder_path, file_name)\n",
        "            print(f'Processing file: {file_name}')\n",
        "\n",
        "            # Preprocess and extract features from the audio signal\n",
        "            features = preprocess_and_extract_features(file_path)\n",
        "            features = np.mean(features.T,axis=0)\n",
        "            mfcc_features.append(features)\n",
        "            labels.append(folder)"
      ],
      "metadata": {
        "trusted": true,
        "id": "bXp3eqJ0kPZa"
      },
      "execution_count": null,
      "outputs": []
    },
    {
      "cell_type": "markdown",
      "source": [
        "# **Demo EDA**"
      ],
      "metadata": {
        "id": "qtgScKM_kPZb"
      }
    },
    {
      "cell_type": "code",
      "source": [
        "path = \"/kaggle/input/toronto-emotional-speech-set-tess/TESS Toronto emotional speech set data/OAF_Fear/OAF_back_fear.wav\"\n",
        "\n",
        "plt.figure(figsize=(16,6))\n",
        "data,s_r = librosa.load(path)\n",
        "librosa.display.waveshow(data,sr=s_r,color='green')\n",
        "plt.title(\"Time Domain\")\n",
        "plt.grid(True)\n",
        "plt.show()"
      ],
      "metadata": {
        "execution": {
          "iopub.status.busy": "2024-03-26T06:00:43.791657Z",
          "iopub.execute_input": "2024-03-26T06:00:43.792436Z",
          "iopub.status.idle": "2024-03-26T06:00:44.452483Z",
          "shell.execute_reply.started": "2024-03-26T06:00:43.792401Z",
          "shell.execute_reply": "2024-03-26T06:00:44.450915Z"
        },
        "trusted": true,
        "id": "0PdSQc_vkPZb"
      },
      "execution_count": null,
      "outputs": []
    },
    {
      "cell_type": "code",
      "source": [
        "#make  a dataframe\n",
        "df = pd.DataFrame({\n",
        "    'MFCC':mfcc_features,\n",
        "    'Label': labels\n",
        "})\n",
        "df.shape"
      ],
      "metadata": {
        "execution": {
          "iopub.status.busy": "2024-03-26T05:52:27.225344Z",
          "iopub.execute_input": "2024-03-26T05:52:27.225778Z",
          "iopub.status.idle": "2024-03-26T05:52:27.238441Z",
          "shell.execute_reply.started": "2024-03-26T05:52:27.225746Z",
          "shell.execute_reply": "2024-03-26T05:52:27.237293Z"
        },
        "trusted": true,
        "id": "KSTpAYQnkPZc"
      },
      "execution_count": null,
      "outputs": []
    },
    {
      "cell_type": "markdown",
      "source": [
        "# **Shuffle the rows**"
      ],
      "metadata": {
        "id": "qq95GdQLkPZc"
      }
    },
    {
      "cell_type": "code",
      "source": [
        "new_df = df.sample(2800)\n",
        "new_df['Label'].value_counts()"
      ],
      "metadata": {
        "execution": {
          "iopub.status.busy": "2024-03-26T05:53:12.25675Z",
          "iopub.execute_input": "2024-03-26T05:53:12.257165Z",
          "iopub.status.idle": "2024-03-26T05:53:12.268293Z",
          "shell.execute_reply.started": "2024-03-26T05:53:12.257134Z",
          "shell.execute_reply": "2024-03-26T05:53:12.267415Z"
        },
        "trusted": true,
        "id": "9NqivMH5kPZc"
      },
      "execution_count": null,
      "outputs": []
    },
    {
      "cell_type": "markdown",
      "source": [
        "# **Categorical Distribution**"
      ],
      "metadata": {
        "id": "P3Mq9jT0kPZc"
      }
    },
    {
      "cell_type": "code",
      "source": [
        "import seaborn as sns\n",
        "plt.figure(figsize=(16,6))\n",
        "sns.countplot(new_df,x='Label')\n",
        "plt.tight_layout()\n",
        "plt.title(\"Categorical Distribution\")\n",
        "plt.show()"
      ],
      "metadata": {
        "execution": {
          "iopub.status.busy": "2024-03-26T05:55:24.685779Z",
          "iopub.execute_input": "2024-03-26T05:55:24.686247Z",
          "iopub.status.idle": "2024-03-26T05:55:25.236624Z",
          "shell.execute_reply.started": "2024-03-26T05:55:24.686214Z",
          "shell.execute_reply": "2024-03-26T05:55:25.234938Z"
        },
        "trusted": true,
        "id": "-fbDZOUskPZd"
      },
      "execution_count": null,
      "outputs": []
    },
    {
      "cell_type": "code",
      "source": [
        "#Label Encoding\n",
        "lbl = LabelEncoder()\n",
        "new_df['Label'] = lbl.fit_transform(new_df['Label'])\n",
        "new_df.head()"
      ],
      "metadata": {
        "execution": {
          "iopub.status.busy": "2024-03-26T06:01:30.007377Z",
          "iopub.execute_input": "2024-03-26T06:01:30.007817Z",
          "iopub.status.idle": "2024-03-26T06:01:30.033732Z",
          "shell.execute_reply.started": "2024-03-26T06:01:30.007757Z",
          "shell.execute_reply": "2024-03-26T06:01:30.032168Z"
        },
        "trusted": true,
        "id": "-3KkCOqCkPZd"
      },
      "execution_count": null,
      "outputs": []
    },
    {
      "cell_type": "code",
      "source": [
        "# separate the label and feature\n",
        "\n",
        "X = np.array(new_df['MFCC'].tolist())\n",
        "y = np.array(new_df['Label'].tolist())\n",
        "\n",
        "X_train, X_test, y_train, y_test = train_test_split(X, y, test_size=0.2, random_state=42)"
      ],
      "metadata": {
        "execution": {
          "iopub.status.busy": "2024-03-26T06:01:38.495354Z",
          "iopub.execute_input": "2024-03-26T06:01:38.496381Z",
          "iopub.status.idle": "2024-03-26T06:01:38.508822Z",
          "shell.execute_reply.started": "2024-03-26T06:01:38.496337Z",
          "shell.execute_reply": "2024-03-26T06:01:38.507228Z"
        },
        "trusted": true,
        "id": "C1qwZfqZkPZd"
      },
      "execution_count": null,
      "outputs": []
    },
    {
      "cell_type": "markdown",
      "source": [
        "# **Support vector machine**"
      ],
      "metadata": {
        "id": "WNWfrhw6kPZd"
      }
    },
    {
      "cell_type": "code",
      "source": [
        "sv = SVC()\n",
        "sv.fit(X_train,y_train)"
      ],
      "metadata": {
        "execution": {
          "iopub.status.busy": "2024-03-26T06:01:41.430909Z",
          "iopub.execute_input": "2024-03-26T06:01:41.431431Z",
          "iopub.status.idle": "2024-03-26T06:01:41.683597Z",
          "shell.execute_reply.started": "2024-03-26T06:01:41.431393Z",
          "shell.execute_reply": "2024-03-26T06:01:41.681896Z"
        },
        "trusted": true,
        "id": "xWZkz290kPZe"
      },
      "execution_count": null,
      "outputs": []
    },
    {
      "cell_type": "code",
      "source": [
        "from sklearn.metrics import confusion_matrix,ConfusionMatrixDisplay,accuracy_score,recall_score,precision_score\n",
        "import matplotlib.pyplot as plt\n",
        "\n",
        "y_pred_sv = sv.predict(X_test)\n",
        "\n",
        "print(f\"Accuracy from svc:{accuracy_score(y_test,y_pred_sv)*100:.4f} %\")\n",
        "print(f\"recall_score: {precision_score(y_test,y_pred_sv,average='weighted')*100:.4f} %\")\n",
        "\n",
        "cnf_sv = confusion_matrix(y_test,y_pred_sv)\n",
        "ax = ConfusionMatrixDisplay(cnf_sv).plot()\n",
        "plt.title(\"Confusion Matrix\")\n",
        "plt.show()"
      ],
      "metadata": {
        "execution": {
          "iopub.status.busy": "2024-03-26T06:01:44.684381Z",
          "iopub.execute_input": "2024-03-26T06:01:44.684868Z",
          "iopub.status.idle": "2024-03-26T06:01:46.195407Z",
          "shell.execute_reply.started": "2024-03-26T06:01:44.684832Z",
          "shell.execute_reply": "2024-03-26T06:01:46.194189Z"
        },
        "trusted": true,
        "id": "SNVOHXbpkPZe"
      },
      "execution_count": null,
      "outputs": []
    },
    {
      "cell_type": "markdown",
      "source": [
        "# **RandomForest**"
      ],
      "metadata": {
        "id": "_IaC4vhIkPZe"
      }
    },
    {
      "cell_type": "code",
      "source": [
        "rnf = RandomForestClassifier()\n",
        "rnf.fit(X_train,y_train)\n",
        "print(f\"{rnf.score(X_test,y_test)*100:.4f} %\")"
      ],
      "metadata": {
        "execution": {
          "iopub.status.busy": "2024-03-26T06:01:52.558783Z",
          "iopub.execute_input": "2024-03-26T06:01:52.559251Z",
          "iopub.status.idle": "2024-03-26T06:01:53.884752Z",
          "shell.execute_reply.started": "2024-03-26T06:01:52.559216Z",
          "shell.execute_reply": "2024-03-26T06:01:53.883378Z"
        },
        "trusted": true,
        "id": "p-RcKkqYkPZe"
      },
      "execution_count": null,
      "outputs": []
    },
    {
      "cell_type": "code",
      "source": [
        "from sklearn.metrics import confusion_matrix,ConfusionMatrixDisplay\n",
        "import matplotlib.pyplot as plt\n",
        "\n",
        "y_pred = rnf.predict(X_test)\n",
        "cnf = confusion_matrix(y_test,y_pred)\n",
        "\n",
        "ax = ConfusionMatrixDisplay(cnf,display_labels=lbl.classes_).plot()\n",
        "plt.xticks(rotation=90)\n",
        "plt.show()"
      ],
      "metadata": {
        "execution": {
          "iopub.status.busy": "2024-03-26T06:17:02.581573Z",
          "iopub.execute_input": "2024-03-26T06:17:02.582009Z",
          "iopub.status.idle": "2024-03-26T06:17:03.374547Z",
          "shell.execute_reply.started": "2024-03-26T06:17:02.581976Z",
          "shell.execute_reply": "2024-03-26T06:17:03.372825Z"
        },
        "trusted": true,
        "id": "hlhiBmmwkPZe"
      },
      "execution_count": null,
      "outputs": []
    },
    {
      "cell_type": "markdown",
      "source": [
        "# **ANN**"
      ],
      "metadata": {
        "id": "qqRQyI_-kPZe"
      }
    },
    {
      "cell_type": "code",
      "source": [
        "model = Sequential()\n",
        "model.add(Dense(256,activation='relu',input_shape=(40,)))\n",
        "model.add(Dense(128,activation='relu'))\n",
        "model.add(Dense(14,activation='softmax'))\n",
        "\n",
        "model.compile(optimizer='adam',metrics=['accuracy'],loss='sparse_categorical_crossentropy')\n",
        "model.fit(X_train,y_train,epochs=10,batch_size=32,validation_data=(X_test,y_test))"
      ],
      "metadata": {
        "execution": {
          "iopub.status.busy": "2024-03-26T06:04:32.678529Z",
          "iopub.execute_input": "2024-03-26T06:04:32.679369Z",
          "iopub.status.idle": "2024-03-26T06:04:36.288377Z",
          "shell.execute_reply.started": "2024-03-26T06:04:32.67933Z",
          "shell.execute_reply": "2024-03-26T06:04:36.286894Z"
        },
        "trusted": true,
        "id": "xA_6YL4TkPZf"
      },
      "execution_count": null,
      "outputs": []
    },
    {
      "cell_type": "code",
      "source": [
        "print(f\"accuracy: {model.evaluate(X_test,y_test)[1]*100:.4f}%\")"
      ],
      "metadata": {
        "execution": {
          "iopub.status.busy": "2024-03-26T06:05:50.852402Z",
          "iopub.execute_input": "2024-03-26T06:05:50.853296Z",
          "iopub.status.idle": "2024-03-26T06:05:50.990501Z",
          "shell.execute_reply.started": "2024-03-26T06:05:50.853251Z",
          "shell.execute_reply": "2024-03-26T06:05:50.989112Z"
        },
        "trusted": true,
        "id": "cbXknohEkPZf"
      },
      "execution_count": null,
      "outputs": []
    },
    {
      "cell_type": "code",
      "source": [
        "y_pred_ann = np.argmax((model.predict(X_test)>0.5).astype(int),axis=1)\n",
        "\n",
        "cnf_ann = confusion_matrix(y_test,y_pred_ann)\n",
        "ax_ann = ConfusionMatrixDisplay(cnf_ann,display_labels=lbl.classes_).plot()\n",
        "plt.title(\"Confusion Matrix\")\n",
        "plt.xticks(rotation=90)\n",
        "plt.show()"
      ],
      "metadata": {
        "execution": {
          "iopub.status.busy": "2024-03-26T06:23:49.080067Z",
          "iopub.execute_input": "2024-03-26T06:23:49.081368Z",
          "iopub.status.idle": "2024-03-26T06:23:49.924325Z",
          "shell.execute_reply.started": "2024-03-26T06:23:49.081326Z",
          "shell.execute_reply": "2024-03-26T06:23:49.923009Z"
        },
        "trusted": true,
        "id": "LK5p7XJ7kPZf"
      },
      "execution_count": null,
      "outputs": []
    },
    {
      "cell_type": "code",
      "source": [],
      "metadata": {
        "id": "DQ72qGZJkPZf"
      },
      "execution_count": null,
      "outputs": []
    }
  ]
}